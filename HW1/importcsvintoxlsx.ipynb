{
  "nbformat": 4,
  "nbformat_minor": 0,
  "metadata": {
    "colab": {
      "provenance": []
    },
    "kernelspec": {
      "name": "python3",
      "display_name": "Python 3"
    },
    "language_info": {
      "name": "python"
    }
  },
  "cells": [
    {
      "cell_type": "code",
      "execution_count": 1,
      "metadata": {
        "id": "62M9V9-hl5v8"
      },
      "outputs": [],
      "source": [
        "import pandas as pd\n",
        "from openpyxl import load_workbook\n",
        "\n",
        "# Load the existing Excel file\n",
        "excel_path = '/content/Hist_HSV.xlsx'\n",
        "wb = load_workbook(excel_path)\n",
        "\n",
        "# Function to import CSV data into the specified worksheet\n",
        "def import_csv_to_excel(csv_path, sheet_name, start_row):\n",
        "    ws = wb[sheet_name]\n",
        "    df = pd.read_csv(csv_path)\n",
        "    for i, row in df.iterrows():\n",
        "        for j, value in enumerate(row):\n",
        "            ws.cell(row=start_row + i, column=j + 1, value=value)\n",
        "\n",
        "# Import hue histograms\n",
        "import_csv_to_excel('/content/hue_histograms.csv', 'Hist_Hue', 2)\n",
        "\n",
        "# Import saturation histograms\n",
        "import_csv_to_excel('/content/sat_histograms.csv', 'Hist_Sat', 2)\n",
        "\n",
        "# Import brightness histograms\n",
        "import_csv_to_excel('/content/val_histograms.csv', 'Hist_Val', 2)\n",
        "\n",
        "# Save the updated Excel file\n",
        "wb.save('/content/Hist_HSV_updated.xlsx')\n",
        "\n",
        "\n"
      ]
    },
    {
      "cell_type": "code",
      "source": [
        "# Download the updated Excel file\n",
        "from google.colab import files\n",
        "files.download('/content/Hist_HSV_updated.xlsx')"
      ],
      "metadata": {
        "colab": {
          "base_uri": "https://localhost:8080/",
          "height": 17
        },
        "id": "N5Fue1-Pmjxc",
        "outputId": "2f59aa8f-99b6-4a1d-9fbf-9f3ae68c2fdf"
      },
      "execution_count": 2,
      "outputs": [
        {
          "output_type": "display_data",
          "data": {
            "text/plain": [
              "<IPython.core.display.Javascript object>"
            ],
            "application/javascript": [
              "\n",
              "    async function download(id, filename, size) {\n",
              "      if (!google.colab.kernel.accessAllowed) {\n",
              "        return;\n",
              "      }\n",
              "      const div = document.createElement('div');\n",
              "      const label = document.createElement('label');\n",
              "      label.textContent = `Downloading \"${filename}\": `;\n",
              "      div.appendChild(label);\n",
              "      const progress = document.createElement('progress');\n",
              "      progress.max = size;\n",
              "      div.appendChild(progress);\n",
              "      document.body.appendChild(div);\n",
              "\n",
              "      const buffers = [];\n",
              "      let downloaded = 0;\n",
              "\n",
              "      const channel = await google.colab.kernel.comms.open(id);\n",
              "      // Send a message to notify the kernel that we're ready.\n",
              "      channel.send({})\n",
              "\n",
              "      for await (const message of channel.messages) {\n",
              "        // Send a message to notify the kernel that we're ready.\n",
              "        channel.send({})\n",
              "        if (message.buffers) {\n",
              "          for (const buffer of message.buffers) {\n",
              "            buffers.push(buffer);\n",
              "            downloaded += buffer.byteLength;\n",
              "            progress.value = downloaded;\n",
              "          }\n",
              "        }\n",
              "      }\n",
              "      const blob = new Blob(buffers, {type: 'application/binary'});\n",
              "      const a = document.createElement('a');\n",
              "      a.href = window.URL.createObjectURL(blob);\n",
              "      a.download = filename;\n",
              "      div.appendChild(a);\n",
              "      a.click();\n",
              "      div.remove();\n",
              "    }\n",
              "  "
            ]
          },
          "metadata": {}
        },
        {
          "output_type": "display_data",
          "data": {
            "text/plain": [
              "<IPython.core.display.Javascript object>"
            ],
            "application/javascript": [
              "download(\"download_446fd996-8482-41e4-a347-4a467b6d7ee3\", \"Hist_HSV_updated.xlsx\", 582352)"
            ]
          },
          "metadata": {}
        }
      ]
    }
  ]
}