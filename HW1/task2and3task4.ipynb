{
  "nbformat": 4,
  "nbformat_minor": 0,
  "metadata": {
    "colab": {
      "provenance": []
    },
    "kernelspec": {
      "name": "python3",
      "display_name": "Python 3"
    },
    "language_info": {
      "name": "python"
    }
  },
  "cells": [
    {
      "cell_type": "code",
      "execution_count": 1,
      "metadata": {
        "id": "62M9V9-hl5v8"
      },
      "outputs": [],
      "source": [
        "#task2\n",
        "# Compute the histograms of all grayscale images\n",
        "#and fill in the tables in\n",
        "#Hist_Hue, His_Sat and Hist_Val worksheets of the Hist_HSV_updated.xlsx worksheet.\n",
        "\n",
        "import pandas as pd\n",
        "from openpyxl import load_workbook\n",
        "\n",
        "# Load the existing Excel file\n",
        "excel_path = '/content/Hist_HSV.xlsx'\n",
        "wb = load_workbook(excel_path)\n",
        "\n",
        "# Function to import CSV data into the specified worksheet\n",
        "def import_csv_to_excel(csv_path, sheet_name, start_row):\n",
        "    ws = wb[sheet_name]\n",
        "    df = pd.read_csv(csv_path)\n",
        "    for i, row in df.iterrows():\n",
        "        for j, value in enumerate(row):\n",
        "            ws.cell(row=start_row + i, column=j + 1, value=value)\n",
        "\n",
        "# Import hue histograms\n",
        "import_csv_to_excel('/content/hue_histograms.csv', 'Hist_Hue', 2)\n",
        "\n",
        "# Import saturation histograms\n",
        "import_csv_to_excel('/content/sat_histograms.csv', 'Hist_Sat', 2)\n",
        "\n",
        "# Import brightness histograms\n",
        "import_csv_to_excel('/content/val_histograms.csv', 'Hist_Val', 2)\n",
        "\n",
        "# Save the updated Excel file\n",
        "wb.save('/content/Hist_HSV_updated.xlsx')\n",
        "\n",
        "\n"
      ]
    },
    {
      "cell_type": "code",
      "source": [
        "# Download the updated Excel file\n",
        "from google.colab import files\n",
        "files.download('/content/Hist_HSV_updated.xlsx')"
      ],
      "metadata": {
        "colab": {
          "base_uri": "https://localhost:8080/",
          "height": 17
        },
        "id": "N5Fue1-Pmjxc",
        "outputId": "2f59aa8f-99b6-4a1d-9fbf-9f3ae68c2fdf"
      },
      "execution_count": 2,
      "outputs": [
        {
          "output_type": "display_data",
          "data": {
            "text/plain": [
              "<IPython.core.display.Javascript object>"
            ],
            "application/javascript": [
              "\n",
              "    async function download(id, filename, size) {\n",
              "      if (!google.colab.kernel.accessAllowed) {\n",
              "        return;\n",
              "      }\n",
              "      const div = document.createElement('div');\n",
              "      const label = document.createElement('label');\n",
              "      label.textContent = `Downloading \"${filename}\": `;\n",
              "      div.appendChild(label);\n",
              "      const progress = document.createElement('progress');\n",
              "      progress.max = size;\n",
              "      div.appendChild(progress);\n",
              "      document.body.appendChild(div);\n",
              "\n",
              "      const buffers = [];\n",
              "      let downloaded = 0;\n",
              "\n",
              "      const channel = await google.colab.kernel.comms.open(id);\n",
              "      // Send a message to notify the kernel that we're ready.\n",
              "      channel.send({})\n",
              "\n",
              "      for await (const message of channel.messages) {\n",
              "        // Send a message to notify the kernel that we're ready.\n",
              "        channel.send({})\n",
              "        if (message.buffers) {\n",
              "          for (const buffer of message.buffers) {\n",
              "            buffers.push(buffer);\n",
              "            downloaded += buffer.byteLength;\n",
              "            progress.value = downloaded;\n",
              "          }\n",
              "        }\n",
              "      }\n",
              "      const blob = new Blob(buffers, {type: 'application/binary'});\n",
              "      const a = document.createElement('a');\n",
              "      a.href = window.URL.createObjectURL(blob);\n",
              "      a.download = filename;\n",
              "      div.appendChild(a);\n",
              "      a.click();\n",
              "      div.remove();\n",
              "    }\n",
              "  "
            ]
          },
          "metadata": {}
        },
        {
          "output_type": "display_data",
          "data": {
            "text/plain": [
              "<IPython.core.display.Javascript object>"
            ],
            "application/javascript": [
              "download(\"download_446fd996-8482-41e4-a347-4a467b6d7ee3\", \"Hist_HSV_updated.xlsx\", 582352)"
            ]
          },
          "metadata": {}
        }
      ]
    },
    {
      "cell_type": "code",
      "source": [
        "\n",
        "#task 3\n",
        "#Using Using the computed histograms, estimate the minimal and maximal threshold values of\n",
        "# hue,saturation and brightness for each image as to optimally extract the facial pixels.\n",
        "from openpyxl import load_workbook\n",
        "\n",
        "# Load the existing Excel file\n",
        "excel_path = '/content/Hist_HSV_updated.xlsx'\n",
        "wb = load_workbook(excel_path)\n",
        "\n",
        "# Function to load histogram data from a worksheet\n",
        "def load_histogram_data(sheet_name):\n",
        "    df = pd.read_excel(excel_path, sheet_name=sheet_name, header=1)\n",
        "    return df\n",
        "\n",
        "# Function to estimate threshold values\n",
        "def estimate_thresholds(histogram_data):\n",
        "    thresholds = {}\n",
        "    for idx, row in histogram_data.iterrows():\n",
        "        hist_values = row[2:].values\n",
        "        total = hist_values.sum()\n",
        "\n",
        "        lower_bound = total * 0.05\n",
        "        upper_bound = total * 0.95\n",
        "\n",
        "        cumulative = 0\n",
        "        min_threshold = None\n",
        "        max_threshold = None\n",
        "\n",
        "        for i, value in enumerate(hist_values):\n",
        "            cumulative += value\n",
        "            if min_threshold is None and cumulative >= lower_bound:\n",
        "                min_threshold = i\n",
        "            if cumulative >= upper_bound:\n",
        "                max_threshold = i\n",
        "                break\n",
        "\n",
        "        if min_threshold is None:\n",
        "            min_threshold = 0\n",
        "        if max_threshold is None:\n",
        "            max_threshold = len(hist_values) - 1\n",
        "\n",
        "        thresholds[row[0]] = (min_threshold, max_threshold)\n",
        "\n",
        "    return thresholds\n",
        "\n",
        "# Function to write thresholds to Excel file\n",
        "def write_thresholds_to_excel(thresholds, sheet_name, start_row, start_col):\n",
        "    ws = wb[sheet_name]\n",
        "    for idx, (image, (min_threshold, max_threshold)) in enumerate(thresholds.items()):\n",
        "        ws.cell(row=start_row, column=start_col + idx, value=min_threshold)\n",
        "        ws.cell(row=start_row + 1, column=start_col + idx, value=max_threshold)\n",
        "\n",
        "# Load histogram data\n",
        "hist_hue_data = load_histogram_data('Hist_Hue')\n",
        "hist_sat_data = load_histogram_data('Hist_Sat')\n",
        "hist_val_data = load_histogram_data('Hist_Val')\n",
        "\n",
        "# Estimate thresholds\n",
        "hue_thresholds = estimate_thresholds(hist_hue_data)\n",
        "sat_thresholds = estimate_thresholds(hist_sat_data)\n",
        "val_thresholds = estimate_thresholds(hist_val_data)\n",
        "\n",
        "# Write thresholds to Excel\n",
        "write_thresholds_to_excel(hue_thresholds, 'Hist_Hue', 260, 2)\n",
        "write_thresholds_to_excel(sat_thresholds, 'Hist_Sat', 260, 2)\n",
        "write_thresholds_to_excel(val_thresholds, 'Hist_Val', 260, 2)\n",
        "\n",
        "# Save the updated Excel file\n",
        "wb.save('/content/Hist_HSV_final.xlsx')\n",
        "\n",
        "# Download the updated Excel file\n",
        "from google.colab import files\n",
        "files.download('/content/Hist_HSV_final.xlsx')\n"
      ],
      "metadata": {
        "colab": {
          "base_uri": "https://localhost:8080/",
          "height": 17
        },
        "id": "PJt2Sr9Fn6Kk",
        "outputId": "d6f8c6d7-146f-4e28-b4f5-5df87898a3bd"
      },
      "execution_count": 7,
      "outputs": [
        {
          "output_type": "display_data",
          "data": {
            "text/plain": [
              "<IPython.core.display.Javascript object>"
            ],
            "application/javascript": [
              "\n",
              "    async function download(id, filename, size) {\n",
              "      if (!google.colab.kernel.accessAllowed) {\n",
              "        return;\n",
              "      }\n",
              "      const div = document.createElement('div');\n",
              "      const label = document.createElement('label');\n",
              "      label.textContent = `Downloading \"${filename}\": `;\n",
              "      div.appendChild(label);\n",
              "      const progress = document.createElement('progress');\n",
              "      progress.max = size;\n",
              "      div.appendChild(progress);\n",
              "      document.body.appendChild(div);\n",
              "\n",
              "      const buffers = [];\n",
              "      let downloaded = 0;\n",
              "\n",
              "      const channel = await google.colab.kernel.comms.open(id);\n",
              "      // Send a message to notify the kernel that we're ready.\n",
              "      channel.send({})\n",
              "\n",
              "      for await (const message of channel.messages) {\n",
              "        // Send a message to notify the kernel that we're ready.\n",
              "        channel.send({})\n",
              "        if (message.buffers) {\n",
              "          for (const buffer of message.buffers) {\n",
              "            buffers.push(buffer);\n",
              "            downloaded += buffer.byteLength;\n",
              "            progress.value = downloaded;\n",
              "          }\n",
              "        }\n",
              "      }\n",
              "      const blob = new Blob(buffers, {type: 'application/binary'});\n",
              "      const a = document.createElement('a');\n",
              "      a.href = window.URL.createObjectURL(blob);\n",
              "      a.download = filename;\n",
              "      div.appendChild(a);\n",
              "      a.click();\n",
              "      div.remove();\n",
              "    }\n",
              "  "
            ]
          },
          "metadata": {}
        },
        {
          "output_type": "display_data",
          "data": {
            "text/plain": [
              "<IPython.core.display.Javascript object>"
            ],
            "application/javascript": [
              "download(\"download_33398358-c16e-4255-b568-e31efa392d9b\", \"Hist_HSV_final.xlsx\", 585307)"
            ]
          },
          "metadata": {}
        }
      ]
    },
    {
      "cell_type": "code",
      "source": [
        "#task4\n",
        "\n",
        "# Repeat Tasks 1, 2 and 3 for the product (saturation * brightness). Fill in the tables in Hist_SV\n",
        "#worksheet. Implement the conversion of the color images to saturation-times-brightness-based\n",
        "#grayscale format as an ImageJ PlugInFilter\n",
        "\n",
        "# Load the existing Excel file\n",
        "excel_path = '/content/Hist_HSV_updated.xlsx'\n",
        "wb = load_workbook(excel_path)\n",
        "\n",
        "# Function to load histogram data from CSV file\n",
        "def load_histogram_data(csv_path):\n",
        "    df = pd.read_csv(csv_path, header=None)\n",
        "    return df\n",
        "\n",
        "# Function to estimate threshold values\n",
        "def estimate_thresholds(histogram_data):\n",
        "    thresholds = {}\n",
        "    for idx, row in histogram_data.iterrows():\n",
        "        hist_values = row[1:].values  # Skip the first column (image identifier)\n",
        "        total = hist_values.sum()\n",
        "\n",
        "        lower_bound = total * 0.05\n",
        "        upper_bound = total * 0.95\n",
        "\n",
        "        cumulative = 0\n",
        "        min_threshold = None\n",
        "        max_threshold = None\n",
        "\n",
        "        for i, value in enumerate(hist_values):\n",
        "            cumulative += value\n",
        "            if min_threshold is None and cumulative >= lower_bound:\n",
        "                min_threshold = i\n",
        "            if cumulative >= upper_bound:\n",
        "                max_threshold = i\n",
        "                break\n",
        "\n",
        "        if min_threshold is None:\n",
        "            min_threshold = 0\n",
        "        if max_threshold is None:\n",
        "            max_threshold = len(hist_values) - 1\n",
        "\n",
        "        thresholds[row[0]] = (min_threshold, max_threshold)\n",
        "\n",
        "    return thresholds\n",
        "\n",
        "# Function to write thresholds to Excel file\n",
        "def write_thresholds_to_excel(thresholds, sheet_name, start_row, start_col):\n",
        "    ws = wb[sheet_name]\n",
        "    for idx, (image, (min_threshold, max_threshold)) in enumerate(thresholds.items()):\n",
        "        ws.cell(row=start_row, column=start_col + idx, value=min_threshold)\n",
        "        ws.cell(row=start_row + 1, column=start_col + idx, value=max_threshold)\n",
        "\n",
        "# Load SV histogram data\n",
        "hist_sv_data = load_histogram_data('/content/sv_histograms.csv')\n",
        "\n",
        "# Estimate thresholds\n",
        "sv_thresholds = estimate_thresholds(hist_sv_data)\n",
        "\n",
        "# Write thresholds to Excel\n",
        "write_thresholds_to_excel(sv_thresholds, 'Hist_SV', 260, 2)\n",
        "\n",
        "# Save the updated Excel file\n",
        "wb.save('/content/Hist_HSV_corrected_task4_sv.xlsx')\n",
        "\n",
        "# Download the updated Excel file\n",
        "from google.colab import files\n",
        "files.download('/content/Hist_HSV_corrected_task4_sv.xlsx')\n"
      ],
      "metadata": {
        "colab": {
          "base_uri": "https://localhost:8080/",
          "height": 156
        },
        "id": "OZaITxxCtzqG",
        "outputId": "d5a6b60f-3891-484f-8694-381ba078c739"
      },
      "execution_count": 9,
      "outputs": [
        {
          "output_type": "stream",
          "name": "stdout",
          "text": [
            "Requirement already satisfied: openpyxl in /usr/local/lib/python3.10/dist-packages (3.1.4)\n",
            "Requirement already satisfied: pandas in /usr/local/lib/python3.10/dist-packages (2.0.3)\n",
            "Requirement already satisfied: et-xmlfile in /usr/local/lib/python3.10/dist-packages (from openpyxl) (1.1.0)\n",
            "Requirement already satisfied: python-dateutil>=2.8.2 in /usr/local/lib/python3.10/dist-packages (from pandas) (2.8.2)\n",
            "Requirement already satisfied: pytz>=2020.1 in /usr/local/lib/python3.10/dist-packages (from pandas) (2023.4)\n",
            "Requirement already satisfied: tzdata>=2022.1 in /usr/local/lib/python3.10/dist-packages (from pandas) (2024.1)\n",
            "Requirement already satisfied: numpy>=1.21.0 in /usr/local/lib/python3.10/dist-packages (from pandas) (1.25.2)\n",
            "Requirement already satisfied: six>=1.5 in /usr/local/lib/python3.10/dist-packages (from python-dateutil>=2.8.2->pandas) (1.16.0)\n"
          ]
        },
        {
          "output_type": "display_data",
          "data": {
            "text/plain": [
              "<IPython.core.display.Javascript object>"
            ],
            "application/javascript": [
              "\n",
              "    async function download(id, filename, size) {\n",
              "      if (!google.colab.kernel.accessAllowed) {\n",
              "        return;\n",
              "      }\n",
              "      const div = document.createElement('div');\n",
              "      const label = document.createElement('label');\n",
              "      label.textContent = `Downloading \"${filename}\": `;\n",
              "      div.appendChild(label);\n",
              "      const progress = document.createElement('progress');\n",
              "      progress.max = size;\n",
              "      div.appendChild(progress);\n",
              "      document.body.appendChild(div);\n",
              "\n",
              "      const buffers = [];\n",
              "      let downloaded = 0;\n",
              "\n",
              "      const channel = await google.colab.kernel.comms.open(id);\n",
              "      // Send a message to notify the kernel that we're ready.\n",
              "      channel.send({})\n",
              "\n",
              "      for await (const message of channel.messages) {\n",
              "        // Send a message to notify the kernel that we're ready.\n",
              "        channel.send({})\n",
              "        if (message.buffers) {\n",
              "          for (const buffer of message.buffers) {\n",
              "            buffers.push(buffer);\n",
              "            downloaded += buffer.byteLength;\n",
              "            progress.value = downloaded;\n",
              "          }\n",
              "        }\n",
              "      }\n",
              "      const blob = new Blob(buffers, {type: 'application/binary'});\n",
              "      const a = document.createElement('a');\n",
              "      a.href = window.URL.createObjectURL(blob);\n",
              "      a.download = filename;\n",
              "      div.appendChild(a);\n",
              "      a.click();\n",
              "      div.remove();\n",
              "    }\n",
              "  "
            ]
          },
          "metadata": {}
        },
        {
          "output_type": "display_data",
          "data": {
            "text/plain": [
              "<IPython.core.display.Javascript object>"
            ],
            "application/javascript": [
              "download(\"download_49371a14-f58c-4e77-98a2-8feeb7bfd2e8\", \"Hist_HSV_corrected_task4_sv.xlsx\", 583291)"
            ]
          },
          "metadata": {}
        }
      ]
    }
  ]
}